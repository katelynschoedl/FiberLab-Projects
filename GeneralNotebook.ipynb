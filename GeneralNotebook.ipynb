{
 "cells": [
  {
   "cell_type": "markdown",
   "metadata": {},
   "source": [
    "# General"
   ]
  },
  {
   "cell_type": "markdown",
   "metadata": {},
   "source": []
  },
  {
   "cell_type": "markdown",
   "metadata": {},
   "source": [
    "## Purpose"
   ]
  },
  {
   "cell_type": "markdown",
   "metadata": {},
   "source": [
    "## Facilities \n",
    "The UW FiberLab \n",
    "\n",
    "### Buildings\n",
    "ATG: Atmospheric Sciences and Geophysics Building\n",
    "\n",
    "JHN: Johnson Hall\n",
    "\n",
    "### Rooms\n",
    "    • FiberLab: ATG 211\n",
    "    • Conference Room: JHN 375\n",
    "    • Shared Desk Space: ATG 219\n",
    "    • Brad Lipovsky's Office: ATG 218\n",
    "    • Marine Denolle's Office: ATG 204\n",
    "\n",
    "### Shipping Address\n",
    "This is the main office shipping address from the ESS website. Most couriers (FedEx, UPS, DHL, etc.) know to go to the loading dock. \n",
    "\n",
    "UW FiberLab\n",
    "University of Washington\n",
    "Johnson Hall Room 70\n",
    "3920 Okanogan Lane NE\n",
    "Seattle, WA 98195\n"
   ]
  },
  {
   "cell_type": "markdown",
   "metadata": {},
   "source": [
    "## Acronyms"
   ]
  },
  {
   "cell_type": "markdown",
   "metadata": {},
   "source": []
  },
  {
   "cell_type": "markdown",
   "metadata": {},
   "source": [
    "## Important Links"
   ]
  },
  {
   "cell_type": "markdown",
   "metadata": {},
   "source": []
  },
  {
   "cell_type": "markdown",
   "metadata": {},
   "source": [
    "# Finance"
   ]
  },
  {
   "cell_type": "markdown",
   "metadata": {},
   "source": [
    "## Procard"
   ]
  },
  {
   "cell_type": "markdown",
   "metadata": {},
   "source": [
    "## Reimbursements"
   ]
  },
  {
   "cell_type": "markdown",
   "metadata": {},
   "source": [
    "## Budget"
   ]
  },
  {
   "cell_type": "markdown",
   "metadata": {},
   "source": [
    "# Software and Databases\n",
    "\n",
    "## GitHub\n",
    "\n",
    "## Drive\n",
    "\n",
    "## Jupyter\n",
    "\n",
    "## Overleaf"
   ]
  },
  {
   "cell_type": "markdown",
   "metadata": {},
   "source": [
    "# Equipment"
   ]
  },
  {
   "cell_type": "markdown",
   "metadata": {},
   "source": [
    "## Servers, VPNs"
   ]
  },
  {
   "cell_type": "markdown",
   "metadata": {},
   "source": [
    "## Capabilities"
   ]
  },
  {
   "cell_type": "markdown",
   "metadata": {},
   "source": []
  },
  {
   "cell_type": "markdown",
   "metadata": {},
   "source": [
    "## Trip Reports"
   ]
  }
 ],
 "metadata": {
  "kernelspec": {
   "display_name": "Python 3",
   "language": "python",
   "name": "python3"
  },
  "language_info": {
   "name": "python",
   "version": "3.9.6"
  }
 },
 "nbformat": 4,
 "nbformat_minor": 2
}
