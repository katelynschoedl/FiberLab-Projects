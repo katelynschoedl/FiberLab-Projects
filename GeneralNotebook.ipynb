{
 "cells": [
  {
   "cell_type": "markdown",
   "metadata": {},
   "source": [
    "# Our Mission"
   ]
  },
  {
   "cell_type": "markdown",
   "metadata": {},
   "source": [
    "---"
   ]
  },
  {
   "cell_type": "markdown",
   "metadata": {},
   "source": [
    "# People\n",
    "\n",
    "### Faculty\n",
    "- Brad Lipovsky \n",
    "- Marine Denolle \n",
    "- Shima Abadi\n",
    "- William Wilcock\n",
    "- Paul Bodin\n",
    "- Dale Winebrenner\n",
    "\n",
    "### Scholars\n",
    "- Chris Miele\n",
    "- Dominik Graff\n",
    "- Ethan Williams\n",
    "- Kuan-Fu Feng\n",
    "- Qibin Shi\n",
    "\n",
    "### Students\n",
    "- \n",
    "- \n",
    "\n",
    "### Interns\n",
    "-\n",
    "-\n",
    "\n",
    "### Staff\n",
    "- ESS Main Office Staff\n",
    "- Katelyn Schoedl\n",
    "\n",
    "### Prior Members\n",
    "-"
   ]
  },
  {
   "cell_type": "markdown",
   "metadata": {},
   "source": [
    "# Partnerships\n",
    "\n",
    "[PNSN](https://www.pnsn.org), located one floor beneath the UW FiberLab, collaborates with the group to compare and evaluate seismic monitoring data and to build plans for future expansion of the monitoring network.\n",
    "\n",
    "[APL](https://apl.uw.edu)\n",
    "\n",
    "[Cascade Volcano Observatory]()\n"
   ]
  },
  {
   "cell_type": "markdown",
   "metadata": {},
   "source": [
    "---"
   ]
  },
  {
   "cell_type": "markdown",
   "metadata": {},
   "source": [
    "# General\n",
    "\n",
    "### Initiatives\n",
    "\n",
    "Open Ocean Initiative\n",
    "\n",
    "### Recently Published Work"
   ]
  },
  {
   "cell_type": "markdown",
   "metadata": {},
   "source": [
    "---"
   ]
  },
  {
   "cell_type": "markdown",
   "metadata": {},
   "source": [
    "### Image Gallery"
   ]
  },
  {
   "cell_type": "markdown",
   "metadata": {},
   "source": [
    "---"
   ]
  },
  {
   "cell_type": "markdown",
   "metadata": {},
   "source": [
    "## Facilities \n",
    "\n",
    "The UW Fiberlab is located on the University of Washington's Main Campus in Seattle, WA.\n",
    "\n",
    "### Shipping Address\n",
    "Main office for the University of Washington department of Earth and Space Sciences:\n",
    "\n",
    "    UW FiberLab\n",
    "    University of Washington\n",
    "    Johnson Hall Room 70\n",
    "    3920 Okanogan Lane NE\n",
    "    Seattle, WA 98195\n",
    "\n",
    "#### ATG: Atmospheric Sciences and Geophysics Building\n",
    "\n",
    "Street address:\n",
    "\n",
    "    3920 Okanogan Ln NE\n",
    "    Seattle, WA 98195\n",
    "\n",
    "#### JHN: Johnson Hall\n",
    "\n",
    "Street address:\n",
    "\n",
    "    1707 NE Grant Ln\n",
    "    Seattle, WA 98195\n",
    "\n",
    "\n",
    "\n",
    "### Rooms\n",
    "- FiberLab: ATG 211\n",
    "- Conference Room: JHN 375\n",
    "- Shared Desk Space: ATG 219\n",
    "- Brad Lipovsky's Office: ATG 218\n",
    "- Marine Denolle's Office: ATG 204\n",
    "\n",
    "\n",
    "\n",
    "\n",
    "### Online\n",
    "\n",
    "Websites\n",
    "- [UW Fiberlab](https://fiberlab.uw.edu)\n",
    "- [Glaciology](https://glaciology.uw.edu)\n",
    "- [VizDAS](https://dasway.ess.washington.edu/vizdas/)\n",
    "\n",
    "\n",
    "[GitHub](https://github.com/uwfiberlab)\n",
    "\n",
    "[Google Drive](https://drive.google.com/drive/folders/1j7bCP1gnjzBmQBxRHt2ov_JH6FNxqU4x)"
   ]
  },
  {
   "cell_type": "markdown",
   "metadata": {},
   "source": [
    "---"
   ]
  },
  {
   "cell_type": "markdown",
   "metadata": {},
   "source": [
    "## In the Field\n",
    "\n",
    "Read more about ongoing DAS research projects happening at the UW FiberLab. You can find more information about the unique test setups on each project page. Equipment specs are available [here]().\n",
    "\n",
    "**Homer, Alaska** | **GreenFjord, Greenland** | **Mt. Rainier National Park, Washington State** | **Lake Washington, Seattle** | **Union Glacier, Antarctica** | **Friday Harbor, San Juan Islands**\n",
    "\n",
    "\n",
    "Interested in working with the UW FiberLab to acquire data for another initiative? View our [equipment schedule]() and [rates]() for more information. \n",
    "\n",
    "\n",
    "### Collaborative Projects\n",
    "\n"
   ]
  },
  {
   "cell_type": "markdown",
   "metadata": {},
   "source": [
    "---"
   ]
  },
  {
   "cell_type": "markdown",
   "metadata": {},
   "source": [
    "# Business"
   ]
  },
  {
   "cell_type": "markdown",
   "metadata": {},
   "source": [
    "## Equipment"
   ]
  },
  {
   "cell_type": "markdown",
   "metadata": {},
   "source": [
    "### Capabilities"
   ]
  },
  {
   "cell_type": "markdown",
   "metadata": {},
   "source": [
    "## Rates"
   ]
  },
  {
   "cell_type": "markdown",
   "metadata": {},
   "source": [
    "---"
   ]
  },
  {
   "cell_type": "markdown",
   "metadata": {},
   "source": [
    "# In The News"
   ]
  },
  {
   "cell_type": "markdown",
   "metadata": {},
   "source": [
    "---"
   ]
  },
  {
   "cell_type": "markdown",
   "metadata": {},
   "source": [
    "# Internal Content (hidden)"
   ]
  },
  {
   "cell_type": "markdown",
   "metadata": {},
   "source": [
    "## Important Links"
   ]
  },
  {
   "cell_type": "markdown",
   "metadata": {},
   "source": [
    "## Procard"
   ]
  },
  {
   "cell_type": "markdown",
   "metadata": {},
   "source": [
    "## Reimbursements"
   ]
  },
  {
   "cell_type": "markdown",
   "metadata": {},
   "source": [
    "## Budget"
   ]
  },
  {
   "cell_type": "markdown",
   "metadata": {},
   "source": [
    "## Servers"
   ]
  },
  {
   "cell_type": "markdown",
   "metadata": {},
   "source": [
    "## Data Storage"
   ]
  },
  {
   "cell_type": "markdown",
   "metadata": {},
   "source": [
    "## Trip Reports"
   ]
  }
 ],
 "metadata": {
  "kernelspec": {
   "display_name": "Python 3",
   "language": "python",
   "name": "python3"
  },
  "language_info": {
   "name": "python",
   "version": "3.9.6"
  }
 },
 "nbformat": 4,
 "nbformat_minor": 2
}
