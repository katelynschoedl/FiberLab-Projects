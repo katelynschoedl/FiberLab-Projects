{
 "cells": [
  {
   "cell_type": "code",
   "execution_count": null,
   "metadata": {
    "vscode": {
     "languageId": "shellscript"
    }
   },
   "outputs": [],
   "source": [
    "#!/bin/bash\n",
    "\n",
    "# Path to your SSH private key\n",
    "SSH_KEY_PATH=\"$HOME/.ssh/id_rsa\"\n",
    "\n",
    "# Ensure SSH_AUTH_SOCK is set\n",
    "if [ -z \"$SSH_AUTH_SOCK\" ]; then\n",
    "    eval \"$(ssh-agent -s)\"\n",
    "    ssh-add \"$SSH_KEY_PATH\"\n",
    "fi\n",
    "\n",
    "\n",
    "OUTPUT_FILE=\"$(date +\"%m.%d.%Y\")_status.txt\"\n",
    "export OUTPUT_FILE"
   ]
  },
  {
   "cell_type": "code",
   "execution_count": null,
   "metadata": {
    "vscode": {
     "languageId": "shellscript"
    }
   },
   "outputs": [],
   "source": [
    "#Secrets\n",
    "\n",
    "RAINIERPASSWORD=\"20-WST-3n?1n33R\"\n",
    "SINTELAPASSWORD=\"5intela_440\""
   ]
  },
  {
   "cell_type": "code",
   "execution_count": null,
   "metadata": {
    "vscode": {
     "languageId": "shellscript"
    }
   },
   "outputs": [],
   "source": [
    "echo \"###########################################\"\n",
    "echo \"              Daily Status                 \"\n",
    "echo \"###########################################\"\n",
    "echo \"Date: $(date)\" >  $OUTPUT_FILE"
   ]
  },
  {
   "cell_type": "code",
   "execution_count": null,
   "metadata": {
    "vscode": {
     "languageId": "shellscript"
    }
   },
   "outputs": [],
   "source": [
    "echo \"###################\"\n",
    "echo \"       SeaDAS      \"\n",
    "echo \"###################\"  \n",
    "echo \"SeaDAS\" >> $OUTPUT_FILE\n",
    "echo \"OptoDAS\" >> $OUTPUT_FILE"
   ]
  },
  {
   "cell_type": "code",
   "execution_count": null,
   "metadata": {
    "vscode": {
     "languageId": "shellscript"
    }
   },
   "outputs": [],
   "source": [
    "#VPN Check\n",
    "\n",
    "echo \"Requires a connection to...\" \n",
    "echo \"a. UW Network Without UW VPN, Tunnelblick is OK\" \n",
    "echo \"b. External Network with UW VPN, Tunnelblick is OK\"\n",
    "echo \"c. Lab Ethernet Connection\"\n",
    "echo \" \"\n",
    "\n",
    "read -p \"Are you connected to the proper network? (y/n): \" vpn_status\n",
    "if [[ \"$vpn_status\" == \"y\" || \"$vpn_status\" == \"Y\" ]]; then\n",
    "    echo \"Proceed to SSH.\"\n",
    "    sleep 1.0\n",
    "else\n",
    "    read -p \"Are you connected to another network with UW VPN turned on? (y/n): \" vpn_status\n",
    "    if [[ \"$vpn_status\" == \"y\" || \"$vpn_status\" == \"Y\" ]]; then\n",
    "        echo \"You are connected to the UW VPN. Proceed to SSH.\"\n",
    "        echo \"Proceeding...\"\n",
    "        sleep 1.0\n",
    "    else\n",
    "        echo \"Please connect to the UW Network before SSH.\"\n",
    "        exit 1\n",
    "    fi\n",
    "fi"
   ]
  },
  {
   "cell_type": "code",
   "execution_count": null,
   "metadata": {
    "vscode": {
     "languageId": "shellscript"
    }
   },
   "outputs": [],
   "source": [
    "#Begin SSH\n",
    "echo \"###################\" \n",
    "echo \"Connecting to Operator on OptoDAS...\"\n",
    "ssh -T -i \"$SSH_KEY_PATH\" operator@10.158.15.97 << 'EOF'\n",
    "if [ $? -ne 0 ]; then\n",
    "    echo \"SSH connection failed.\"\n",
    "    exit 1\n",
    "fi\n",
    "\n",
    "echo \"Connected to Operator\" \n",
    "echo \" \"\n",
    "sleep 1.0"
   ]
  },
  {
   "cell_type": "code",
   "execution_count": null,
   "metadata": {
    "vscode": {
     "languageId": "shellscript"
    }
   },
   "outputs": [],
   "source": [
    "#SSH Session Checks\n",
    "echo \"Device API Status:\"\n",
    "curl -s http://10.158.15.97:10532/optodas/api/v2/status | jq -r '.State'\n",
    "sleep 0.5\n",
    "echo \" \"\n",
    "echo \"Storage Used: \"\n",
    "curl -s http://10.158.15.97:10532/optodas/api/v2/status | jq -r '.StorageUtilisation * 100 | tostring + \"%\"' \n",
    "echo \"...at location: \"\n",
    "curl -s http://10.158.15.97:10532/optodas/api/v2/status | jq -r '.Location' \n",
    "sleep 0.5\n",
    "echo \" \"\n",
    "\n",
    "curl -s http://10.158.15.97:10532/optodas/api/v2/status\n",
    "daily_status=$(curl -s http://10.158.15.97:10532/optodas/api/v2/status | jq -r '.State')\n",
    "storage_status=$(curl -s http://10.158.15.97:10532/optodas/api/v2/status | jq -r '.StorageUtilisation * 100 | tostring + \"%\"')\n",
    "location_status=$(curl -s http://10.158.15.97:10532/optodas/api/v2/status | jq -r '.Location' )\n",
    "\n",
    "echo \" \"\n",
    "echo \"Proceed to Filesystem Checks.\"\n",
    "sleep 1.0\n",
    "echo \" \"\n",
    "echo \"###################\" \n",
    "echo \"   Mount Points:   \"\n",
    "echo \"###################\" \n",
    "cd /mnt/\n",
    "ls\n",
    "\n",
    "for dir in $(ls); do\n",
    "    if [ -d \"$dir\" ]; then\n",
    "        echo \" \"\n",
    "        echo \"###\" \n",
    "        echo \"$dir snapshot:\"\n",
    "        df -H \"$dir\"\n",
    "        echo \" \"\n",
    "\n",
    "        echo \"  Listing last 10 items in $dir:\"\n",
    "        if [ -z \"$(ls -A \"$dir\")\" ]; then\n",
    "            echo \"  NO_ITEMS\"\n",
    "        else\n",
    "            ls \"$dir\" | tail | sed 's/^/    /'\n",
    "        fi\n",
    "        echo \"\"\n",
    "    fi\n",
    "done\n",
    "\n",
    "echo \"\" \n",
    "echo \"###\" \n",
    "echo \"Logging out from OptoDAS...\"\n",
    "echo \"###\" \n",
    "echo \" \"\n",
    "logout\n",
    "EOF"
   ]
  },
  {
   "cell_type": "code",
   "execution_count": null,
   "metadata": {
    "vscode": {
     "languageId": "shellscript"
    }
   },
   "outputs": [],
   "source": [
    "#Export SSH Variables Output\n",
    "\n",
    "#Parse the captured output to extract the variables\n",
    "daily_status=$(echo \"$ssh_output\" | grep \"DAILY_STATUS\" | cut -d '=' -f 2)\n",
    "storage_status=$(echo \"$ssh_output\" | grep \"STORAGE_STATUS\" | cut -d '=' -f 2)\n",
    "location_status=$(echo \"$ssh_output\" | grep \"LOCATION_STATUS\" | cut -d '=' -f 2)\n",
    "\n",
    "#Append the captured variables to the output file\n",
    "echo \"Daily Status: $daily_status\" >> $OUTPUT_FILE\n",
    "echo \"Storage Status: $storage_status\" >> $OUTPUT_FILE\n",
    "echo \"Location Status: $location_status\" >> $OUTPUT_FILE"
   ]
  },
  {
   "cell_type": "code",
   "execution_count": null,
   "metadata": {
    "vscode": {
     "languageId": "shellscript"
    }
   },
   "outputs": [],
   "source": [
    "echo \"###################\"\n",
    "echo \"      Rainier     \"\n",
    "echo \"###################\"\n",
    "echo \"Rainier\" >> $OUTPUT_FILE\n",
    "echo \"Onyx\" >> $OUTPUT_FILE\n"
   ]
  },
  {
   "cell_type": "code",
   "execution_count": null,
   "metadata": {
    "vscode": {
     "languageId": "shellscript"
    }
   },
   "outputs": [],
   "source": [
    "#VPN Check\n",
    "\n",
    "echo \"Requires a connection to...\" \n",
    "echo \"a. Tunnelblick VPN, Gator Config\" \n",
    "echo \" \"\n",
    "read -p \"Are you connected to the proper network? (y/n): \" vpn_status\n",
    "if [[ \"$vpn_status\" == \"y\" || \"$vpn_status\" == \"Y\" ]]; then\n",
    "    echo \"Proceed to SSH.\"\n",
    "    sleep 1.0\n",
    "else\n",
    "        echo \"Please connect to the UW Network before SSH.\"\n",
    "        exit 1\n",
    "fi"
   ]
  },
  {
   "cell_type": "code",
   "execution_count": null,
   "metadata": {
    "vscode": {
     "languageId": "shellscript"
    }
   },
   "outputs": [],
   "source": [
    "#Begin SSH\n",
    "\n",
    "echo \"###################\" \n",
    "echo \"   \"\n",
    "echo \"Connecting to Sintela at Rainier...\"\n",
    "sleep 1.0\n",
    "sshpass -p \"$SINTELAPASSWORD\" ssh -T -i \"$SSH_KEY_PATH\" -p 10022 -o SendEnv=OUTPUT_FILE sintela@166.144.144.149 << 'EOF'\n"
   ]
  },
  {
   "cell_type": "code",
   "execution_count": null,
   "metadata": {
    "vscode": {
     "languageId": "shellscript"
    }
   },
   "outputs": [],
   "source": [
    "#SSH Session Checks\n",
    "\n",
    "echo \"Proceed to Filesystem Checks.\"\n",
    "sleep 1.0\n",
    "echo \" \"\n",
    "echo \"###################\" \n",
    "echo \"   Mount Points:   \"\n",
    "echo \"###################\" \n",
    "df -H /mnt/extSSD1 /mnt/extSSD2 /mnt/extSSD3\n",
    "\n",
    "cd /mnt/\n",
    "for dir in */; do\n",
    "    if [ -d \"$dir\" ]; then\n",
    "        echo \" \"\n",
    "        echo \"###\" \n",
    "        echo \"$dir snapshot:\"\n",
    "        \n",
    "\n",
    "        echo \"  Listing last 10 items in $dir:\"\n",
    "        if [ -z \"$(ls -A \"$dir\")\" ]; then\n",
    "            echo \"  NO_ITEMS\"\n",
    "        else\n",
    "            echo ls \"$dir\" | tail | sed 's/^/    /'\n",
    "            if ls \"$subdir\" | tail | grep -q \"isRecording.txt\"; then\n",
    "                echo \"    Recording to $subdir in $dir\"\n",
    "            fi\n",
    "        fi\n",
    "        echo \"\"\n",
    "\n",
    "        # Loop through subdirectories\n",
    "        for subdir in \"$dir\"rainier*; do\n",
    "            if [ -d \"$subdir\" ]; then\n",
    "                echo \"  Listing last 10 items in subdirectory $subdir:\"\n",
    "                if [ -z \"$(ls -A \"$subdir\")\" ]; then\n",
    "                    echo \"    NO_ITEMS\"\n",
    "                else\n",
    "                    ls \"$subdir\" | tail | sed 's/^/    /'\n",
    "                fi\n",
    "                echo \"\"\n",
    "            fi\n",
    "        done\n",
    "    fi\n",
    "done\n",
    "\n",
    "logout\n",
    "EOF"
   ]
  },
  {
   "cell_type": "code",
   "execution_count": null,
   "metadata": {
    "vscode": {
     "languageId": "shellscript"
    }
   },
   "outputs": [],
   "source": [
    "#Begin SSH\n",
    "\n",
    "echo \" \"\n",
    "echo \"####################\"\n",
    "echo \"Connecting to Rainier NAS...\"\n",
    "sleep 1.0\n",
    "sshpass -p \"$RAINIERPASSWORD\" ssh -T -i \"$SSH_KEY_PATH\" -p 20022 -o SendEnv=OUTPUT_FILE -o LogLevel=ERROR -o StrictHostKeyChecking=no -o UserKnownHostsFile=/dev/null sintela@166.144.144.149 << 'EOF'\n",
    "if [ $? -ne 0 ]; then\n",
    "    echo \"SSH connection failed.\"\n",
    "    exit 1\n",
    "fi"
   ]
  },
  {
   "cell_type": "code",
   "execution_count": null,
   "metadata": {
    "vscode": {
     "languageId": "shellscript"
    }
   },
   "outputs": [],
   "source": [
    "#SSH Session Checks\n",
    "\n",
    "echo \" \"\n",
    "echo \"Connected to NAS\"\n",
    "echo \"\"\n",
    "df -H\n",
    "echo \" \"\n",
    "echo \"Most recent files:\"\n",
    "ls -1 /volume1/Public/rainier | tail\n",
    "echo \" \"\n",
    "\n",
    "echo \"Logging out...\"\n",
    "logout\n",
    "EOF\n",
    "echo \" \""
   ]
  },
  {
   "cell_type": "code",
   "execution_count": null,
   "metadata": {
    "vscode": {
     "languageId": "shellscript"
    }
   },
   "outputs": [],
   "source": [
    "echo \"###################\"\n",
    "echo \"       Alaska     \"\n",
    "echo \"###################\"\n",
    "echo \"Alaska\" >> $OUTPUT_FILE\n",
    "echo \"Temporarily Down\"\n",
    "echo \" \"\n",
    "echo \" \"\n",
    "echo \"Checks completed.\"\n",
    "echo \" \"\n",
    "echo \"Output written to $OUTPUT_FILE\""
   ]
  },
  {
   "cell_type": "markdown",
   "metadata": {},
   "source": [
    "\n",
    "Notes....\n",
    "\n",
    "\n",
    "##################\n",
    "## Template Alaska\n",
    "## To ssh into the GPU server, use \"ssh -p 27531 user@192.168.10.6\" when you are already ssh'd into the alaska_das server\n",
    "## If you're sshing from cascadia into rad in order to transfer data to/from the alaska_das server,\n",
    "## the default configuration of ssh on cascadia may require you to add a -4 to force it to use IPV4 for the port forwarding. E.g.: ssh -p 27531 -4 -L 8888:192.168.128.2:27531 efwillia@rad.ess.washington.edu\n",
    "#echo \"Connect to Tunnelblick VPN\"\n",
    "#read -p \"Are you connected to the Gator Configuration? (y/n):\" vpn_status\n",
    "#if [[ \"$vpn_status\" == \"y\" || \"$vpn_status\" == \"Y\" ]]; then\n",
    "#    echo \"You are connected to the Tunnelblick VPN, Gator Configuration.\"\n",
    "#    # Add any commands or tasks that require VPN/WiFi connection here\n",
    "#else\n",
    "#    echo \"You must be connected to the Tunnelblick VPN.\"\n",
    "#    exit 1\n",
    "#fi\n",
    "##\n",
    "#echo \"UW WiFi Shortcut\"\n",
    "#read -p \"Are you connected to the UW VPN? (y/n):\" port_number\n",
    "#if [[ \"$vpn_status\" == \"y\" || \"$vpn_status\" == \"Y\" ]]; then\n",
    "#    echo \"SSH port shortcut will be used.\"\n",
    "#    port_number=37531\n",
    "#else\n",
    "#    echo \"Ok.\"\n",
    "#    port_number=27531\n",
    "#fi\n",
    "##\n",
    "\n",
    "#echo \"Connecting to RAD (Gateway Server)...\"\n",
    "#ssh -p 27531 kschoedl@rad.ess.washington.edu\n",
    "##Prompted to enter password\n",
    "#echo \"Logged in user @ RAD Gateway Server.\"\n",
    "#echo \"Proceeding to checks.\"\n",
    "##Check structure and space\n",
    "#df -h\n",
    "####Filesystem      Size  Used Avail Use% Mounted on\n",
    "####devtmpfs        4.0M     0  4.0M   0% /dev\n",
    "####tmpfs           3.7G     0  3.7G   0% /dev/shm\n",
    "####tmpfs           1.5G  138M  1.4G  10% /run\n",
    "####/dev/sda3        25G  3.0G   22G  13% /\n",
    "####/dev/sda1       966M  212M  689M  24% /boot\n",
    "####tmpfs           758M  4.0K  758M   1% /run/user/39205\n",
    "####tmpfs           758M  4.0K  758M   1% /run/user/39062\n",
    "##\n",
    "#echo \"alaska_das_IP=192.168.10.3\"\n",
    "#echo \"alaska_nas_IP= \"\n",
    "#echo \"alaska\n",
    "##Connect to Alaska DAS Server with Device IP Address\n",
    "#ping -c 10 $alaska_das_IP.ess.washington.edu > /dev/null &\n",
    "#wait $!\n",
    "#if [ $? -eq 0 ]; then\n",
    "#    echo \"Server $alaska_das_IP is reachable.\"\n",
    "#else\n",
    "#    echo \"Server $alaska_das_IP is not reachable.\"\n",
    "#fi\n",
    "#Connect to alaska server (alaska_das) with password\n",
    "#sshpass -p \"$pass\" ssh -p $port $user@$alaska_das_IP\n",
    "#df -h\n",
    "#Connect to NAS / QNAP Data\n",
    "#temp_user=sintela\n",
    "#temp_pass=5intela_440\n",
    "#http://rad.ess.washington.edu:38080/cgi-bin/\n",
    "##Connect to Interrogator\n",
    "#sshpass -p \"$temp_pass\" ssh $temp_user@$alaska_das_IP\n",
    "#NAS\n",
    "#ONYX"
   ]
  }
 ],
 "metadata": {
  "language_info": {
   "name": "python"
  }
 },
 "nbformat": 4,
 "nbformat_minor": 2
}
