{
 "cells": [
  {
   "cell_type": "markdown",
   "metadata": {},
   "source": [
    "# The UW FiberLab"
   ]
  },
  {
   "cell_type": "markdown",
   "metadata": {},
   "source": [
    "---"
   ]
  },
  {
   "cell_type": "markdown",
   "metadata": {},
   "source": [
    "# People https://fiberlab.uw.edu/people/\n",
    "\n",
    "### Faculty\n",
    "- Brad Lipovsky \n",
    "- Marine Denolle \n",
    "- Shima Abadi\n",
    "- William Wilcock\n",
    "- Paul Bodin\n",
    "- Dale Winebrenner\n",
    "\n",
    "### Scholars\n",
    "- Chris Miele\n",
    "- Dominik Graff\n",
    "- Ethan Williams\n",
    "- Kuan-Fu Feng\n",
    "- Qibin Shi\n",
    "\n",
    "### Students\n",
    "- \n",
    "- \n",
    "\n",
    "### Interns\n",
    "-\n",
    "-\n",
    "\n",
    "### Staff\n",
    "- Katelyn Schoedl\n",
    "\n",
    "### Prior Members\n",
    "-"
   ]
  },
  {
   "cell_type": "markdown",
   "metadata": {},
   "source": [
    "# Partnerships\n",
    "\n",
    "[PNSN](https://www.pnsn.org)\n",
    "\n",
    "[APL](https://apl.uw.edu)\n",
    "\n",
    "[Cascade Volcano Observatory]()\n"
   ]
  },
  {
   "cell_type": "markdown",
   "metadata": {},
   "source": [
    "---"
   ]
  },
  {
   "cell_type": "markdown",
   "metadata": {},
   "source": [
    "# General\n",
    "\n",
    "### Initiatives\n",
    "\n",
    "Open Ocean Initiative\n",
    "\n",
    "### Recently Published Work"
   ]
  },
  {
   "cell_type": "markdown",
   "metadata": {},
   "source": [
    "---"
   ]
  },
  {
   "cell_type": "markdown",
   "metadata": {},
   "source": [
    "## Facilities \n",
    "\n",
    "The UW Fiberlab is located on the University of Washington's Main Campus in Seattle, WA.\n",
    "\n",
    "### Shipping Address\n",
    "Main office for the University of Washington department of Earth and Space Sciences:\n",
    "\n",
    "    UW FiberLab\n",
    "    University of Washington\n",
    "    Johnson Hall Room 70\n",
    "    3920 Okanogan Lane NE\n",
    "    Seattle, WA 98195\n",
    "\n",
    "#### ATG: [Atmospheric Sciences and Geophysics Building](https://facilities.uw.edu/bldg/1294)\n",
    "\n",
    "Street address:\n",
    "\n",
    "    3920 Okanogan Ln NE\n",
    "    Seattle, WA 98195\n",
    "\n",
    "Building Facilitator: Dennis Canuelle (canuelle@uw.edu)\n",
    "\n",
    "#### JHN: [Johnson Hall](https://facilities.uw.edu/bldg/1200)\n",
    "\n",
    "Street address:\n",
    "\n",
    "    1707 NE Grant Ln\n",
    "    Seattle, WA 98195\n",
    "\n",
    "Building Facilitator: Michael D Harrell (mdh666@uw.edu)\n",
    "\n",
    "\n",
    "\n",
    "### Rooms\n",
    "- FiberLab: ATG 211\n",
    "- Conference Room: JHN 375\n",
    "- Shared Desk Space: ATG 219\n",
    "- Brad Lipovsky's Office: ATG 218\n",
    "- Marine Denolle's Office: ATG 204\n",
    "\n",
    "### UW Box Number\n",
    "- BOX 351310\n",
    "\n",
    "### Online\n",
    "\n",
    "Websites\n",
    "- [UW Fiberlab](https://fiberlab.uw.edu)\n",
    "- [Glaciology](https://glaciology.uw.edu)\n",
    "- [VizDAS](https://dasway.ess.washington.edu/vizdas/)\n",
    "\n",
    "\n",
    "[GitHub](https://github.com/uwfiberlab)\n",
    "\n",
    "[Google Drive](https://drive.google.com/drive/folders/1j7bCP1gnjzBmQBxRHt2ov_JH6FNxqU4x)"
   ]
  },
  {
   "cell_type": "markdown",
   "metadata": {},
   "source": [
    "---"
   ]
  },
  {
   "cell_type": "markdown",
   "metadata": {},
   "source": [
    "## In the Field\n",
    "\n",
    "Read more about ongoing DAS research projects happening at the UW FiberLab. You can find more information about the unique test setups on each project page. Equipment specs are available [here]().\n",
    "\n",
    "**Homer, Alaska** | **GreenFjord, Greenland** | **Mt. Rainier National Park, Washington State** | **Lake Washington, Seattle** | **Union Glacier, Antarctica** | **Friday Harbor, San Juan Islands**\n",
    "\n",
    "\n",
    "Interested in working with the UW FiberLab to acquire data for another initiative? View our [equipment schedule]() and [rates]() for more information. \n",
    "\n",
    "\n",
    "### Collaborative Projects\n",
    "\n"
   ]
  },
  {
   "cell_type": "markdown",
   "metadata": {},
   "source": [
    "---"
   ]
  },
  {
   "cell_type": "markdown",
   "metadata": {},
   "source": [
    "# Business"
   ]
  },
  {
   "cell_type": "markdown",
   "metadata": {},
   "source": [
    "## Equipment"
   ]
  },
  {
   "cell_type": "markdown",
   "metadata": {},
   "source": [
    "### Capabilities"
   ]
  },
  {
   "cell_type": "markdown",
   "metadata": {},
   "source": [
    "## Rates"
   ]
  },
  {
   "cell_type": "markdown",
   "metadata": {},
   "source": [
    "---"
   ]
  },
  {
   "cell_type": "markdown",
   "metadata": {},
   "source": [
    "# Internal Content (hidden)"
   ]
  },
  {
   "cell_type": "markdown",
   "metadata": {},
   "source": []
  },
  {
   "cell_type": "markdown",
   "metadata": {},
   "source": []
  },
  {
   "cell_type": "markdown",
   "metadata": {},
   "source": [
    "## Important Links"
   ]
  },
  {
   "cell_type": "markdown",
   "metadata": {},
   "source": [
    "## Spending\n",
    "\n",
    "### Three Categories of Spending\n",
    "\n",
    "**Reimbursement Expenses**\n",
    "\n",
    "General Requirements:\n",
    "  - All items listed (required by the SE approver)\n",
    "  - All items noted as received\n",
    "  - Redact all personal information\n",
    "\n",
    "Meals:\n",
    "  - All participants listed\n",
    "  - All items listed\n",
    "Budget Numbers:\n",
    "  - Department Budget 75: Seminar or Colloquium\n",
    "  - Fiber Lab Budget 146319: Not supposed to be food-approved, but Scott/Eunice/the Dean have allowed it over the years\n",
    "\n",
    "\n",
    "**Travel Expenses**\n",
    "\n",
    "- Itemized Receipts for Meals:\n",
    "  - Itemized receipt is required, otherwise, the Per Diem rate is used along with flight itinerary, meeting agenda, and details of why it was attended\n",
    "\n",
    "- Fair Pricing Comparison:\n",
    "  - UW will pay for the option with the lowest rate\n",
    "  - Check GSA Per Diem rates (maximum depends on location)\n",
    "  - Ensure to do this before travel in case prices change\n",
    "\n",
    "- Booking Preferences:\n",
    "  - UW does not prefer booking through Expedia or other agents because their receipts do not include necessary details such as proof of payment typically found in a folio\n",
    "\n",
    "\n",
    "**Purchase Request**\n",
    "\n",
    "- Documentation:\n",
    "  - ESS Form with header, purchased items, and date\n",
    "  - Packing slip with a signature that confirms receipt\n",
    "\n",
    "\n",
    "**Additional Notes:**\n",
    "\n",
    "- The term \"SE approver\" refers to an \"Sponsored Programs & External Funding\" (SE) approver. This person is responsible for reviewing and approving expenses related to sponsored programs or external funding. In the context of reimbursement expenses, the SE approver ensures that all listed items comply with the rules and guidelines set by the sponsoring agency or external funding source.\n",
    "- The department has only one grant manager, Eunice, whereas other departments have more.\n",
    "- It is essential to know the necessary conditions for a budget plan to pass UW approval. Sponsors are not as particular when rounding numbers for budgeting travel."
   ]
  },
  {
   "cell_type": "markdown",
   "metadata": {},
   "source": [
    "## ProCard\n",
    "\n",
    "The standard single transaction limit for ProCard accounts is $3,500. If you need to make a purchase exceeding this amount, you must submit a temporary limit increase request through UW Connect, accompanied by the Card Limit Increase Request Form. To change your monthly ProCard limit, you must also submit a request through UW Connect with the same form. ProCard accounts are valid for three years, and to renew an account, one must complete the ProCard assessment with a passing score. Within a department, everyone who performs UW purchasing with a credit card needs a ProCard.\n",
    "\n",
    "ProCard purchases must follow both UW Purchasing policy and the State of Washington purchasing regulations. When suppliers require contract signatures, the contract must be reviewed by a contract expert and sent to Strategic Sourcing and Contracts. Food and beverage purchases are permissible if the Cost Center is approved or the department has Food Approval Form 1798 on file. However, you cannot use the ProCard to purchase tax-exempt equipment under the Machinery & Equipment (M&E) Tax exemption. In the event of a declined transaction, you should email procard@uw.edu with the transaction details.\n",
    "\n",
    "If unauthorized charges appear on your ProCard, you should call JP Morgan Chase and then email the Card Services team at procard@uw.edu. To ensure adequate internal controls, departments should consider the separation of duties when developing transaction review procedures. The business purpose of a ProCard charge should be entered in the memo field in Workday during verification. Departments must ensure tax is charged on all UW purchased items used in Washington State by selecting the \"Calculate Self-Assessed Tax” option in Workday. If a Washington sales tax is charged by an out-of-state merchant, the \"Sales Tax Collected\" box should be checked. Transactions can be allocated to multiple cost centers in Workday.\n",
    "\n",
    "Disputes with recognized vendors should be addressed by working with the vendor first and contacting JP Morgan Chase if necessary. Disputes can be filed up to 60 days from the post date. The deadline for verifying transactions in Workday is the last business day of the month by 5pm PST. Unverified transactions after the deadline will be flagged, remain unverified, or not post to the month they occurred in. Documentation for transactions should be retained for six years and include receipts/invoices, packing slips or proof of delivery, and transaction approvals. The ProCard must not be used for travel expenses, but it can be used for conference registration fees if lodging is included. Non-allowable purchases include travel-related expenses, hazardous items, and personal expenses.\n",
    "\n"
   ]
  },
  {
   "cell_type": "markdown",
   "metadata": {},
   "source": []
  },
  {
   "cell_type": "markdown",
   "metadata": {},
   "source": [
    "## Budget"
   ]
  },
  {
   "cell_type": "markdown",
   "metadata": {},
   "source": [
    "## Servers"
   ]
  },
  {
   "cell_type": "markdown",
   "metadata": {},
   "source": [
    "## Data Storage"
   ]
  },
  {
   "cell_type": "markdown",
   "metadata": {},
   "source": [
    "## Trip Reports"
   ]
  },
  {
   "cell_type": "markdown",
   "metadata": {},
   "source": [
    "## Shipping and Customs\n",
    "\n",
    "https://finance.uw.edu/ps/how-to-pay/supplier-invoice/customs-clearance\n",
    "\n",
    "\n",
    "### Insurance\n",
    "\n",
    "\n",
    "### Customs Brokers \n",
    "\n",
    "#### University Broker\n",
    "The ESS FedEx Account will use the recommended broker.\n",
    "\n",
    "#### Maersk (Pilot Freight) \t\n",
    "Ernestine Myers (Intl Manager): ernestine.myers@maersk.com\n",
    "Domestics Quotes: seaob_PLT@maersk.com  \n",
    "International Quotes: seaintl_PLT@maersk.com \n",
    "Perishable Shipments: seaperishables_PLT@maersk.com\n",
    "\n",
    "\n",
    "## Support at UW\n",
    "#### Ray Hollingsworth \n",
    "Export Control Transportation Logistics Administrator\n",
    "Applied Physics Lab \n",
    "University of Washington \n",
    "1013 NE 40th Street\n",
    "Seattle, WA 98105\n",
    "O: (206) 543-1257\n",
    "F: ( 206) 616-0139\n",
    "\n"
   ]
  }
 ],
 "metadata": {
  "kernelspec": {
   "display_name": "Python 3 (ipykernel)",
   "language": "python",
   "name": "python3"
  },
  "language_info": {
   "codemirror_mode": {
    "name": "ipython",
    "version": 3
   },
   "file_extension": ".py",
   "mimetype": "text/x-python",
   "name": "python",
   "nbconvert_exporter": "python",
   "pygments_lexer": "ipython3",
   "version": "3.12.5"
  }
 },
 "nbformat": 4,
 "nbformat_minor": 4
}
