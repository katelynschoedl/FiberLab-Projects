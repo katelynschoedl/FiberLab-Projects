{
 "cells": [
  {
   "cell_type": "code",
   "execution_count": null,
   "id": "7299447f-db61-493e-9607-0006d798394b",
   "metadata": {},
   "outputs": [],
   "source": [
    "import matplotlib.pyplot as plt\n",
    "import matplotlib.patches as patches\n",
    "\n",
    "# Create figure and axis\n",
    "fig, ax = plt.subplots(figsize=(8, 6))\n",
    "\n",
    "# Set axis limits and turn off axis\n",
    "ax.set_xlim(0, 10)\n",
    "ax.set_ylim(0, 10)\n",
    "ax.axis('off')\n",
    "\n",
    "# Add the main box \"Exp\"\n",
    "exp_box = patches.Rectangle((3, 5), 4, 2, edgecolor='black', facecolor='lightgrey', lw=2)\n",
    "ax.add_patch(exp_box)\n",
    "\n",
    "# Add smaller boxes inside \"Exp\" with better spacing and borders\n",
    "small_box_positions = [(3.2, 6.2, 1.6, 0.6), (5.2, 6.2, 1.6, 0.6), (3.2, 5.6, 1.6, 0.6), (5.2, 5.6, 1.6, 0.6), \n",
    "                       (3.2, 5, 1.6, 0.6), (5.2, 5, 1.6, 0.6)]  # Adjusted for spacing\n",
    "box_labels = ['DAS', 'Storage', 'GPU', 'CPU', 'Dongle Kit', 'Rack Mount']\n",
    "for (x, y, w, h), label in zip(small_box_positions, box_labels):\n",
    "    box = patches.Rectangle((x, y), w, h, edgecolor='black', facecolor='white', lw=2)\n",
    "    ax.add_patch(box)\n",
    "    ax.text(x + w/2, y + h/2, label, ha='center', va='center', fontsize=10)\n",
    "\n",
    "# Draw the line between VPN and Gateway as the lowest layer\n",
    "center_x = 8.5  # Center between the two boxes\n",
    "ax.plot([center_x, center_x], [7, 5.5], color='black', lw=2, zorder=1)  # Line from VPN to Gateway\n",
    "\n",
    "# Draw continuous line from Exp to VPN and Gateway, with no breaks\n",
    "ax.plot([7, center_x, center_x], [6.5, 6.5, 7], color='black', lw=2, zorder=2)  # Line from Exp to VPN\n",
    "\n",
    "# Add the VPN and Gateway boxes with white background\n",
    "vpn_box = patches.Rectangle((8, 7), 2, 1, edgecolor='black', facecolor='white', lw=2, zorder=3)\n",
    "ax.add_patch(vpn_box)\n",
    "ax.text(9, 7.5, 'VPN', ha='center', va='center', fontsize=12, zorder=4)\n",
    "\n",
    "gateway_box = patches.Rectangle((8, 5), 2, 1, edgecolor='black', facecolor='white', lw=2, zorder=3)\n",
    "ax.add_patch(gateway_box)\n",
    "ax.text(9, 5.5, 'Gateway', ha='center', va='center', fontsize=12, zorder=4)\n",
    "\n",
    "# Add line from Gateway to Laptop\n",
    "ax.annotate('', xy=(9, 4.8), xytext=(9, 4),\n",
    "            arrowprops=dict(arrowstyle='->', lw=2), zorder=5)\n",
    "ax.text(9, 3.8, 'Laptop', ha='center', va='center', fontsize=10, zorder=5)\n",
    "\n",
    "# Display the diagram\n",
    "plt.show()"
   ]
  }
 ],
 "metadata": {
  "kernelspec": {
   "display_name": "Python 3 (ipykernel)",
   "language": "python",
   "name": "python3"
  },
  "language_info": {
   "codemirror_mode": {
    "name": "ipython",
    "version": 3
   },
   "file_extension": ".py",
   "mimetype": "text/x-python",
   "name": "python",
   "nbconvert_exporter": "python",
   "pygments_lexer": "ipython3",
   "version": "3.12.5"
  }
 },
 "nbformat": 4,
 "nbformat_minor": 5
}
