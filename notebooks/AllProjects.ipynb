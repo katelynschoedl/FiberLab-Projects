{
 "cells": [
  {
   "cell_type": "markdown",
   "metadata": {
    "vscode": {
     "languageId": "html"
    }
   },
   "source": [
    "# Budgeting"
   ]
  },
  {
   "cell_type": "markdown",
   "metadata": {},
   "source": [
    "## All Grant Awards"
   ]
  },
  {
   "cell_type": "code",
   "execution_count": 10,
   "metadata": {},
   "outputs": [
    {
     "data": {
      "text/html": [
       "\n",
       "<iframe src='https://bitools.uw.edu/views/PostAwardDashboard/BalanceRemaining/265a759c-b186-475c-8a6e-5c355b1894d5/841566d9-1a7a-4e01-be73-3657b70f364e' \n",
       "        width='700' \n",
       "        height='300' \n",
       "        frameborder='1' \n",
       "        allowfullscreen>\n",
       "</iframe>\n"
      ],
      "text/plain": [
       "<IPython.core.display.HTML object>"
      ]
     },
     "metadata": {},
     "output_type": "display_data"
    }
   ],
   "source": [
    "from IPython.display import display, HTML\n",
    "\n",
    "# Define the HTML content with the iframe\n",
    "html_content = \"\"\"\n",
    "<iframe src='https://bitools.uw.edu/views/PostAwardDashboard/BalanceRemaining/265a759c-b186-475c-8a6e-5c355b1894d5/841566d9-1a7a-4e01-be73-3657b70f364e' \n",
    "        width='700' \n",
    "        height='300' \n",
    "        frameborder='1' \n",
    "        allowfullscreen>\n",
    "</iframe>\n",
    "\"\"\"\n",
    "\n",
    "# Display the HTML content\n",
    "display(HTML(html_content))"
   ]
  }
 ],
 "metadata": {
  "kernelspec": {
   "display_name": "Python 3 (ipykernel)",
   "language": "python",
   "name": "python3"
  },
  "language_info": {
   "codemirror_mode": {
    "name": "ipython",
    "version": 3
   },
   "file_extension": ".py",
   "mimetype": "text/x-python",
   "name": "python",
   "nbconvert_exporter": "python",
   "pygments_lexer": "ipython3",
   "version": "3.12.5"
  }
 },
 "nbformat": 4,
 "nbformat_minor": 4
}
